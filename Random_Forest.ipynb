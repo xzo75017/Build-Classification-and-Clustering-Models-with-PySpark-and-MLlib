{
 "cells": [
  {
   "cell_type": "markdown",
   "id": "dbf15221",
   "metadata": {},
   "source": [
    "<h1> Install pyspark library </h1>"
   ]
  },
  {
   "cell_type": "code",
   "execution_count": 1,
   "id": "88bbb165",
   "metadata": {},
   "outputs": [
    {
     "name": "stdout",
     "output_type": "stream",
     "text": [
      "Requirement already satisfied: pyspark in c:\\users\\user\\anaconda3\\lib\\site-packages (3.3.0)\n",
      "Requirement already satisfied: py4j==0.10.9.5 in c:\\users\\user\\anaconda3\\lib\\site-packages (from pyspark) (0.10.9.5)\n"
     ]
    }
   ],
   "source": [
    "!pip install pyspark"
   ]
  },
  {
   "cell_type": "code",
   "execution_count": 2,
   "id": "6b01c5a6",
   "metadata": {},
   "outputs": [],
   "source": [
    "#import pyspark library \n",
    "import pyspark"
   ]
  },
  {
   "cell_type": "code",
   "execution_count": 3,
   "id": "c3996337",
   "metadata": {},
   "outputs": [],
   "source": [
    "#import spark session library\n",
    "from pyspark.sql import SparkSession"
   ]
  },
  {
   "cell_type": "code",
   "execution_count": 4,
   "id": "b014d099",
   "metadata": {},
   "outputs": [],
   "source": [
    "#create SparkSession object \n",
    "spark = SparkSession \\\n",
    "            .builder \\\n",
    "            .appName(\"Random_Forest_Classifier\")\\\n",
    "            .getOrCreate()"
   ]
  },
  {
   "cell_type": "markdown",
   "id": "4a61dcba",
   "metadata": {},
   "source": [
    "<h1> Create DataFrame </h1>"
   ]
  },
  {
   "cell_type": "code",
   "execution_count": 5,
   "id": "1cdbc627",
   "metadata": {},
   "outputs": [],
   "source": [
    "data1 = spark.read.format(\"csv\").option(\"header\",\"true\")\\\n",
    ".option(\"inferSchema\",\"true\").load(\"Social_Network_Ads.csv\")"
   ]
  },
  {
   "cell_type": "code",
   "execution_count": 6,
   "id": "fd0eda05",
   "metadata": {},
   "outputs": [
    {
     "name": "stdout",
     "output_type": "stream",
     "text": [
      "+--------+------+---+---------------+---------+\n",
      "| User ID|Gender|Age|EstimatedSalary|Purchased|\n",
      "+--------+------+---+---------------+---------+\n",
      "|15624510|  Male| 19|          19000|        0|\n",
      "|15810944|  Male| 35|          20000|        0|\n",
      "|15668575|Female| 26|          43000|        0|\n",
      "|15603246|Female| 27|          57000|        0|\n",
      "|15804002|  Male| 19|          76000|        0|\n",
      "|15728773|  Male| 27|          58000|        0|\n",
      "|15598044|Female| 27|          84000|        0|\n",
      "|15694829|Female| 32|         150000|        1|\n",
      "|15600575|  Male| 25|          33000|        0|\n",
      "|15727311|Female| 35|          65000|        0|\n",
      "|15570769|Female| 26|          80000|        0|\n",
      "|15606274|Female| 26|          52000|        0|\n",
      "|15746139|  Male| 20|          86000|        0|\n",
      "|15704987|  Male| 32|          18000|        0|\n",
      "|15628972|  Male| 18|          82000|        0|\n",
      "|15697686|  Male| 29|          80000|        0|\n",
      "|15733883|  Male| 47|          25000|        1|\n",
      "|15617482|  Male| 45|          26000|        1|\n",
      "|15704583|  Male| 46|          28000|        1|\n",
      "|15621083|Female| 48|          29000|        1|\n",
      "+--------+------+---+---------------+---------+\n",
      "only showing top 20 rows\n",
      "\n"
     ]
    }
   ],
   "source": [
    "data1.show()"
   ]
  },
  {
   "cell_type": "markdown",
   "id": "92f17b81",
   "metadata": {},
   "source": [
    "<h1> Vectorize the feature </h1>"
   ]
  },
  {
   "cell_type": "code",
   "execution_count": 7,
   "id": "f5b5979d",
   "metadata": {},
   "outputs": [],
   "source": [
    "from pyspark.ml.feature import * "
   ]
  },
  {
   "cell_type": "code",
   "execution_count": 8,
   "id": "dd6f8600",
   "metadata": {},
   "outputs": [],
   "source": [
    "from pyspark.ml.feature import VectorAssembler"
   ]
  },
  {
   "cell_type": "code",
   "execution_count": 11,
   "id": "2835a1e1",
   "metadata": {},
   "outputs": [
    {
     "name": "stdout",
     "output_type": "stream",
     "text": [
      "+--------+------+---+---------------+---------+---------------+\n",
      "|User ID |Gender|Age|EstimatedSalary|Purchased|features       |\n",
      "+--------+------+---+---------------+---------+---------------+\n",
      "|15624510|Male  |19 |19000          |0        |[19.0,19000.0] |\n",
      "|15810944|Male  |35 |20000          |0        |[35.0,20000.0] |\n",
      "|15668575|Female|26 |43000          |0        |[26.0,43000.0] |\n",
      "|15603246|Female|27 |57000          |0        |[27.0,57000.0] |\n",
      "|15804002|Male  |19 |76000          |0        |[19.0,76000.0] |\n",
      "|15728773|Male  |27 |58000          |0        |[27.0,58000.0] |\n",
      "|15598044|Female|27 |84000          |0        |[27.0,84000.0] |\n",
      "|15694829|Female|32 |150000         |1        |[32.0,150000.0]|\n",
      "|15600575|Male  |25 |33000          |0        |[25.0,33000.0] |\n",
      "|15727311|Female|35 |65000          |0        |[35.0,65000.0] |\n",
      "+--------+------+---+---------------+---------+---------------+\n",
      "only showing top 10 rows\n",
      "\n"
     ]
    }
   ],
   "source": [
    "vectorizer = VectorAssembler()\n",
    "vectorizer.setInputCols([\"Age\",\"EstimatedSalary\"])\n",
    "vectorizer.setOutputCol(\"features\")\n",
    "\n",
    "data = vectorizer.transform(data1)\n",
    "data.show(10, False)"
   ]
  },
  {
   "cell_type": "code",
   "execution_count": 12,
   "id": "59577dba",
   "metadata": {},
   "outputs": [
    {
     "name": "stdout",
     "output_type": "stream",
     "text": [
      "+--------+------+---+---------------+---------+---------------+\n",
      "| User ID|Gender|Age|EstimatedSalary|Purchased|       features|\n",
      "+--------+------+---+---------------+---------+---------------+\n",
      "|15624510|  Male| 19|          19000|        0| [19.0,19000.0]|\n",
      "|15810944|  Male| 35|          20000|        0| [35.0,20000.0]|\n",
      "|15668575|Female| 26|          43000|        0| [26.0,43000.0]|\n",
      "|15603246|Female| 27|          57000|        0| [27.0,57000.0]|\n",
      "|15804002|  Male| 19|          76000|        0| [19.0,76000.0]|\n",
      "|15728773|  Male| 27|          58000|        0| [27.0,58000.0]|\n",
      "|15598044|Female| 27|          84000|        0| [27.0,84000.0]|\n",
      "|15694829|Female| 32|         150000|        1|[32.0,150000.0]|\n",
      "|15600575|  Male| 25|          33000|        0| [25.0,33000.0]|\n",
      "|15727311|Female| 35|          65000|        0| [35.0,65000.0]|\n",
      "|15570769|Female| 26|          80000|        0| [26.0,80000.0]|\n",
      "|15606274|Female| 26|          52000|        0| [26.0,52000.0]|\n",
      "|15746139|  Male| 20|          86000|        0| [20.0,86000.0]|\n",
      "|15704987|  Male| 32|          18000|        0| [32.0,18000.0]|\n",
      "|15628972|  Male| 18|          82000|        0| [18.0,82000.0]|\n",
      "|15697686|  Male| 29|          80000|        0| [29.0,80000.0]|\n",
      "|15733883|  Male| 47|          25000|        1| [47.0,25000.0]|\n",
      "|15617482|  Male| 45|          26000|        1| [45.0,26000.0]|\n",
      "|15704583|  Male| 46|          28000|        1| [46.0,28000.0]|\n",
      "|15621083|Female| 48|          29000|        1| [48.0,29000.0]|\n",
      "+--------+------+---+---------------+---------+---------------+\n",
      "only showing top 20 rows\n",
      "\n"
     ]
    }
   ],
   "source": [
    "data.show()"
   ]
  },
  {
   "cell_type": "markdown",
   "id": "93930d8c",
   "metadata": {},
   "source": [
    "<h1> Data Scaling </h1>"
   ]
  },
  {
   "cell_type": "code",
   "execution_count": 13,
   "id": "ae7bde00",
   "metadata": {},
   "outputs": [],
   "source": [
    "#import scaler library\n",
    "from pyspark.ml.feature import MinMaxScaler"
   ]
  },
  {
   "cell_type": "code",
   "execution_count": 14,
   "id": "fa3869a4",
   "metadata": {},
   "outputs": [],
   "source": [
    "scaler = MinMaxScaler(inputCol = \"features\", outputCol = \"scaledFeatures\")"
   ]
  },
  {
   "cell_type": "code",
   "execution_count": 15,
   "id": "6823f7dd",
   "metadata": {},
   "outputs": [],
   "source": [
    "scalerModel = scaler.fit(data)"
   ]
  },
  {
   "cell_type": "code",
   "execution_count": 16,
   "id": "9ce98e5f",
   "metadata": {},
   "outputs": [],
   "source": [
    "scaledData = scalerModel.transform(data)"
   ]
  },
  {
   "cell_type": "code",
   "execution_count": 17,
   "id": "97615bff",
   "metadata": {},
   "outputs": [
    {
     "name": "stdout",
     "output_type": "stream",
     "text": [
      "+--------+------+---+---------------+---------+---------------+--------------------+\n",
      "| User ID|Gender|Age|EstimatedSalary|Purchased|       features|      scaledFeatures|\n",
      "+--------+------+---+---------------+---------+---------------+--------------------+\n",
      "|15624510|  Male| 19|          19000|        0| [19.0,19000.0]|[0.02380952380952...|\n",
      "|15810944|  Male| 35|          20000|        0| [35.0,20000.0]|[0.40476190476190...|\n",
      "|15668575|Female| 26|          43000|        0| [26.0,43000.0]|[0.19047619047619...|\n",
      "|15603246|Female| 27|          57000|        0| [27.0,57000.0]|[0.21428571428571...|\n",
      "|15804002|  Male| 19|          76000|        0| [19.0,76000.0]|[0.02380952380952...|\n",
      "|15728773|  Male| 27|          58000|        0| [27.0,58000.0]|[0.21428571428571...|\n",
      "|15598044|Female| 27|          84000|        0| [27.0,84000.0]|[0.21428571428571...|\n",
      "|15694829|Female| 32|         150000|        1|[32.0,150000.0]|[0.33333333333333...|\n",
      "|15600575|  Male| 25|          33000|        0| [25.0,33000.0]|[0.16666666666666...|\n",
      "|15727311|Female| 35|          65000|        0| [35.0,65000.0]|[0.40476190476190...|\n",
      "|15570769|Female| 26|          80000|        0| [26.0,80000.0]|[0.19047619047619...|\n",
      "|15606274|Female| 26|          52000|        0| [26.0,52000.0]|[0.19047619047619...|\n",
      "|15746139|  Male| 20|          86000|        0| [20.0,86000.0]|[0.04761904761904...|\n",
      "|15704987|  Male| 32|          18000|        0| [32.0,18000.0]|[0.33333333333333...|\n",
      "|15628972|  Male| 18|          82000|        0| [18.0,82000.0]|[0.0,0.4962962962...|\n",
      "|15697686|  Male| 29|          80000|        0| [29.0,80000.0]|[0.26190476190476...|\n",
      "|15733883|  Male| 47|          25000|        1| [47.0,25000.0]|[0.69047619047619...|\n",
      "|15617482|  Male| 45|          26000|        1| [45.0,26000.0]|[0.64285714285714...|\n",
      "|15704583|  Male| 46|          28000|        1| [46.0,28000.0]|[0.66666666666666...|\n",
      "|15621083|Female| 48|          29000|        1| [48.0,29000.0]|[0.71428571428571...|\n",
      "+--------+------+---+---------------+---------+---------------+--------------------+\n",
      "only showing top 20 rows\n",
      "\n"
     ]
    }
   ],
   "source": [
    "scaledData.show()"
   ]
  },
  {
   "cell_type": "code",
   "execution_count": 18,
   "id": "164bde2a",
   "metadata": {},
   "outputs": [
    {
     "data": {
      "text/plain": [
       "[Row(scaledFeatures=DenseVector([0.0238, 0.0296])),\n",
       " Row(scaledFeatures=DenseVector([0.4048, 0.037]))]"
      ]
     },
     "execution_count": 18,
     "metadata": {},
     "output_type": "execute_result"
    }
   ],
   "source": [
    "scaledData.select(\"scaledFeatures\").take(2)"
   ]
  },
  {
   "cell_type": "markdown",
   "id": "f7cdb7b0",
   "metadata": {},
   "source": [
    "<h1> without scaming use features column as a input column </h1>\n",
    "<h1> with scaling use scaledFeatures column as a input column </h1>\n",
    "<h1> Model Training </h1>"
   ]
  },
  {
   "cell_type": "code",
   "execution_count": 19,
   "id": "daa1a48a",
   "metadata": {},
   "outputs": [],
   "source": [
    "from pyspark.ml import Pipeline\n",
    "from pyspark.ml.classification import RandomForestClassifier\n",
    "from pyspark.ml.feature import IndexToString, StringIndexer, VectorIndexer\n",
    "from pyspark.ml.evaluation import MulticlassClassificationEvaluator"
   ]
  },
  {
   "cell_type": "code",
   "execution_count": 20,
   "id": "1ef77b22",
   "metadata": {},
   "outputs": [],
   "source": [
    "#Index Labels, adding metadata to the label column\n",
    "#Fit on whole dataset to include all labels in index\n",
    "labelIndexer = StringIndexer(inputCol='Purchased', outputCol=\"indexedLabel\").fit(scaledData)"
   ]
  },
  {
   "cell_type": "code",
   "execution_count": 21,
   "id": "5be32e3f",
   "metadata": {},
   "outputs": [],
   "source": [
    "#Automatically identify categorial features and index them\n",
    "#We specify maxCategories so features with > 4 distinct values are treated as continuous.\n",
    "featureIndexer=\\\n",
    "VectorIndexer(inputCol=\"scaledFeatures\", outputCol=\"indexedFeatures\", maxCategories=4).fit(scaledData)"
   ]
  },
  {
   "cell_type": "code",
   "execution_count": 22,
   "id": "d9dcd5cc",
   "metadata": {},
   "outputs": [],
   "source": [
    "#split the data into training and test sets (30% held out for testing)\n",
    "(trainingData, testData) = scaledData.randomSplit([0.7,0.3])"
   ]
  },
  {
   "cell_type": "code",
   "execution_count": 23,
   "id": "a974db51",
   "metadata": {},
   "outputs": [],
   "source": [
    "#Train a RandomForest model\n",
    "rf = RandomForestClassifier(labelCol=\"indexedLabel\", featuresCol=\"indexedFeatures\", numTrees=10)"
   ]
  },
  {
   "cell_type": "code",
   "execution_count": 24,
   "id": "04169daf",
   "metadata": {},
   "outputs": [],
   "source": [
    "#Convert indexed labels back to original labels\n",
    "labelConverter = IndexToString(inputCol=\"prediction\", outputCol=\"predictedLabel\", labels=labelIndexer.labels)"
   ]
  },
  {
   "cell_type": "code",
   "execution_count": 25,
   "id": "986bcbb0",
   "metadata": {},
   "outputs": [],
   "source": [
    "#Chain indexers and forest in a pipeline\n",
    "pipeline = Pipeline(stages=(labelIndexer, featureIndexer, rf, labelConverter))"
   ]
  },
  {
   "cell_type": "code",
   "execution_count": 26,
   "id": "9d7cd6e2",
   "metadata": {},
   "outputs": [],
   "source": [
    "#Train model. This also runs the indexers \n",
    "model = pipeline.fit(trainingData)"
   ]
  },
  {
   "cell_type": "markdown",
   "id": "27d0e10f",
   "metadata": {},
   "source": [
    "<h1> Model Testing </h1>"
   ]
  },
  {
   "cell_type": "code",
   "execution_count": 27,
   "id": "fce44454",
   "metadata": {},
   "outputs": [],
   "source": [
    "#Make predictions \n",
    "predictions = model.transform(testData)"
   ]
  },
  {
   "cell_type": "code",
   "execution_count": 28,
   "id": "819e91f7",
   "metadata": {},
   "outputs": [
    {
     "name": "stdout",
     "output_type": "stream",
     "text": [
      "+--------------+---------+--------------------+\n",
      "|predictedLabel|Purchased|      scaledFeatures|\n",
      "+--------------+---------+--------------------+\n",
      "|             1|        1|[0.95238095238095...|\n",
      "|             0|        0|[0.19047619047619...|\n",
      "|             0|        1|[0.52380952380952...|\n",
      "|             0|        0|[0.40476190476190...|\n",
      "|             0|        0|[0.40476190476190...|\n",
      "+--------------+---------+--------------------+\n",
      "only showing top 5 rows\n",
      "\n"
     ]
    }
   ],
   "source": [
    "#Select rows to display\n",
    "predictions.select('predictedLabel', 'Purchased', 'scaledFeatures').show(5)"
   ]
  },
  {
   "cell_type": "markdown",
   "id": "61e718e8",
   "metadata": {},
   "source": [
    "<h1> Model Summary </h1>"
   ]
  },
  {
   "cell_type": "code",
   "execution_count": 29,
   "id": "2edce1ee",
   "metadata": {},
   "outputs": [
    {
     "name": "stdout",
     "output_type": "stream",
     "text": [
      "Test Error = 0.141732 \n"
     ]
    }
   ],
   "source": [
    "#Select (prediction true label) and compute test error\n",
    "evaluator = MulticlassClassificationEvaluator(\n",
    "labelCol=\"indexedLabel\", predictionCol=\"prediction\", metricName='accuracy')\n",
    "accuracy = evaluator.evaluate(predictions)\n",
    "print(\"Test Error = %g \" % (1.0 - accuracy))"
   ]
  },
  {
   "cell_type": "code",
   "execution_count": 30,
   "id": "5f997a7c",
   "metadata": {},
   "outputs": [
    {
     "name": "stdout",
     "output_type": "stream",
     "text": [
      "RandomForestClassificationModel: uid=RandomForestClassifier_7f8aee8f6232, numTrees=10, numClasses=2, numFeatures=2\n"
     ]
    }
   ],
   "source": [
    "rfModel = model.stages[2]\n",
    "print(rfModel)"
   ]
  },
  {
   "cell_type": "code",
   "execution_count": 31,
   "id": "bf5a820b",
   "metadata": {},
   "outputs": [
    {
     "name": "stdout",
     "output_type": "stream",
     "text": [
      "+---------+--------------+-----+\n",
      "|Purchased|predictedLabel|count|\n",
      "+---------+--------------+-----+\n",
      "|        1|             0|    6|\n",
      "|        0|             1|   12|\n",
      "|        0|             0|   84|\n",
      "|        1|             1|   25|\n",
      "+---------+--------------+-----+\n",
      "\n"
     ]
    }
   ],
   "source": [
    "predictions.groupBy('Purchased','predictedLabel').count().show()"
   ]
  },
  {
   "cell_type": "code",
   "execution_count": 32,
   "id": "8eb3907f",
   "metadata": {},
   "outputs": [
    {
     "data": {
      "text/plain": [
       "0.8582677165354331"
      ]
     },
     "execution_count": 32,
     "metadata": {},
     "output_type": "execute_result"
    }
   ],
   "source": [
    "accuracy"
   ]
  },
  {
   "cell_type": "code",
   "execution_count": 33,
   "id": "5b7485e1",
   "metadata": {},
   "outputs": [
    {
     "name": "stdout",
     "output_type": "stream",
     "text": [
      "Model Accuracy = 0.547739\n"
     ]
    }
   ],
   "source": [
    "#Calculate the elements of the confusion matrix\n",
    "TN = predictions.filter('prediction = 0 AND Purchased = prediction').count()\n",
    "TP = predictions.filter('prediction = 1 AND Purchased = prediction').count()\n",
    "FN = predictions.filter('prediction = 0 AND Purchased = 1').count()\n",
    "FP = predictions.filter('prediction = 0 AND Purchased = 0').count()\n",
    "\n",
    "#Accuracy measures the proportion of correct predictions \n",
    "accuracy = (TN + TP) / (TN + TP + FN + FP)\n",
    "print(\"Model Accuracy = %g\" % (accuracy))"
   ]
  },
  {
   "cell_type": "code",
   "execution_count": null,
   "id": "3f7458d4",
   "metadata": {},
   "outputs": [],
   "source": []
  }
 ],
 "metadata": {
  "kernelspec": {
   "display_name": "Python 3 (ipykernel)",
   "language": "python",
   "name": "python3"
  },
  "language_info": {
   "codemirror_mode": {
    "name": "ipython",
    "version": 3
   },
   "file_extension": ".py",
   "mimetype": "text/x-python",
   "name": "python",
   "nbconvert_exporter": "python",
   "pygments_lexer": "ipython3",
   "version": "3.9.7"
  }
 },
 "nbformat": 4,
 "nbformat_minor": 5
}
