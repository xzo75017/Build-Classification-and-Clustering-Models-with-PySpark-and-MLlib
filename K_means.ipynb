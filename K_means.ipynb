{
 "cells": [
  {
   "cell_type": "markdown",
   "id": "c53dc8f4",
   "metadata": {},
   "source": [
    "<h1> Install pyspark library </h1>\n"
   ]
  },
  {
   "cell_type": "code",
   "execution_count": 2,
   "id": "7e7485eb",
   "metadata": {},
   "outputs": [
    {
     "name": "stdout",
     "output_type": "stream",
     "text": [
      "Requirement already satisfied: pyspark in c:\\users\\user\\anaconda3\\lib\\site-packages (3.3.0)\n",
      "Requirement already satisfied: py4j==0.10.9.5 in c:\\users\\user\\anaconda3\\lib\\site-packages (from pyspark) (0.10.9.5)\n"
     ]
    }
   ],
   "source": [
    "!pip install pyspark"
   ]
  },
  {
   "cell_type": "code",
   "execution_count": 3,
   "id": "d2e6dfc9",
   "metadata": {},
   "outputs": [],
   "source": [
    "#import pyspark library \n",
    "import pyspark"
   ]
  },
  {
   "cell_type": "code",
   "execution_count": 4,
   "id": "e9a5ee3a",
   "metadata": {},
   "outputs": [],
   "source": [
    "#import spark session library\n",
    "from pyspark.sql import SparkSession"
   ]
  },
  {
   "cell_type": "code",
   "execution_count": 5,
   "id": "c7094ea8",
   "metadata": {},
   "outputs": [],
   "source": [
    "#create SparkSession object \n",
    "spark = SparkSession \\\n",
    "            .builder \\\n",
    "            .appName(\"K_means\")\\\n",
    "            .getOrCreate()"
   ]
  },
  {
   "cell_type": "markdown",
   "id": "5efb59ad",
   "metadata": {},
   "source": [
    "<h1> Create DataFrame </h1>"
   ]
  },
  {
   "cell_type": "code",
   "execution_count": 7,
   "id": "7439b0cb",
   "metadata": {},
   "outputs": [],
   "source": [
    "#To create datafrale form external datasets \n",
    "df = spark.read.option(\"header\",\"true\").csv(\"airlines1.csv\")"
   ]
  },
  {
   "cell_type": "code",
   "execution_count": 8,
   "id": "2f6a98b2",
   "metadata": {},
   "outputs": [
    {
     "data": {
      "text/plain": [
       "50001"
      ]
     },
     "execution_count": 8,
     "metadata": {},
     "output_type": "execute_result"
    }
   ],
   "source": [
    "df.count()"
   ]
  },
  {
   "cell_type": "markdown",
   "id": "da32e204",
   "metadata": {},
   "source": [
    "<h1> Data Preparation </h1>"
   ]
  },
  {
   "cell_type": "code",
   "execution_count": 9,
   "id": "c830e6a9",
   "metadata": {},
   "outputs": [],
   "source": [
    "# create new daraframe as per required columns for predictions \n",
    "AirlineDF = df.select(\"Origin\",\"Dest\", \"AirTime\", \"Distance\")"
   ]
  },
  {
   "cell_type": "code",
   "execution_count": 10,
   "id": "eca540e0",
   "metadata": {},
   "outputs": [
    {
     "data": {
      "text/plain": [
       "DataFrame[Origin: string, Dest: string, AirTime: string, Distance: string]"
      ]
     },
     "execution_count": 10,
     "metadata": {},
     "output_type": "execute_result"
    }
   ],
   "source": [
    "#cache data in-memory\n",
    "AirlineDF.cache()"
   ]
  },
  {
   "cell_type": "code",
   "execution_count": 11,
   "id": "d3cae6de",
   "metadata": {},
   "outputs": [
    {
     "name": "stdout",
     "output_type": "stream",
     "text": [
      "+------+----+-------+--------+\n",
      "|Origin|Dest|AirTime|Distance|\n",
      "+------+----+-------+--------+\n",
      "|   MSP| SLC|  153.0|   991.0|\n",
      "|   MKE| MCO|  141.0|  1066.0|\n",
      "|   GJT| DFW|  103.0|   773.0|\n",
      "|   LAX| DTW|  220.0|  1979.0|\n",
      "|   EWR| CLT|   80.0|   529.0|\n",
      "|   DFW| SHV|   28.0|   190.0|\n",
      "|   BOS| CLE|   94.0|   563.0|\n",
      "|   ATL| CAE|   35.0|   192.0|\n",
      "|   ORD| CLE|   59.0|   316.0|\n",
      "|   MDW| DAL|  114.0|   793.0|\n",
      "|   SAN| LAX|   null|   109.0|\n",
      "|   ELP| DAL|   77.0|   562.0|\n",
      "|   SJU| MIA|   null|  1045.0|\n",
      "|   ABQ| LAX|   95.0|   677.0|\n",
      "|   ORD| LGA|   99.0|   733.0|\n",
      "|   GSO| BWI|   null|   278.0|\n",
      "|   DTW| MBS|   24.0|    98.0|\n",
      "|   SLC| SEA|  102.0|   689.0|\n",
      "|   LAX| IAD|  255.0|  2288.0|\n",
      "|   SMF| LAX|   null|   373.0|\n",
      "+------+----+-------+--------+\n",
      "only showing top 20 rows\n",
      "\n"
     ]
    }
   ],
   "source": [
    "AirlineDF.show()"
   ]
  },
  {
   "cell_type": "code",
   "execution_count": 12,
   "id": "8c4e30af",
   "metadata": {},
   "outputs": [
    {
     "name": "stdout",
     "output_type": "stream",
     "text": [
      "root\n",
      " |-- Origin: string (nullable = true)\n",
      " |-- Dest: string (nullable = true)\n",
      " |-- AirTime: string (nullable = true)\n",
      " |-- Distance: string (nullable = true)\n",
      "\n"
     ]
    }
   ],
   "source": [
    "#check data types of each columns\n",
    "AirlineDF.printSchema()"
   ]
  },
  {
   "cell_type": "code",
   "execution_count": 13,
   "id": "68441a65",
   "metadata": {},
   "outputs": [],
   "source": [
    "from pyspark.sql.types import IntegerType"
   ]
  },
  {
   "cell_type": "code",
   "execution_count": 15,
   "id": "c41eba1c",
   "metadata": {},
   "outputs": [],
   "source": [
    "AirlineDF = AirlineDF.withColumn(\"Distance\", AirlineDF[\"Distance\"].cast(IntegerType()))"
   ]
  },
  {
   "cell_type": "code",
   "execution_count": 17,
   "id": "efafa8a1",
   "metadata": {},
   "outputs": [],
   "source": [
    "AirlineDF = AirlineDF.withColumn(\"AirTime\", AirlineDF[\"AirTime\"].cast(IntegerType()))"
   ]
  },
  {
   "cell_type": "code",
   "execution_count": 18,
   "id": "8c098af3",
   "metadata": {},
   "outputs": [
    {
     "name": "stdout",
     "output_type": "stream",
     "text": [
      "root\n",
      " |-- Origin: string (nullable = true)\n",
      " |-- Dest: string (nullable = true)\n",
      " |-- AirTime: integer (nullable = true)\n",
      " |-- Distance: integer (nullable = true)\n",
      "\n"
     ]
    }
   ],
   "source": [
    "AirlineDF.printSchema()"
   ]
  },
  {
   "cell_type": "code",
   "execution_count": 19,
   "id": "0313c80f",
   "metadata": {},
   "outputs": [
    {
     "name": "stdout",
     "output_type": "stream",
     "text": [
      "+------+----+-------+--------+\n",
      "|Origin|Dest|AirTime|Distance|\n",
      "+------+----+-------+--------+\n",
      "|   MSP| SLC|    153|     991|\n",
      "|   MKE| MCO|    141|    1066|\n",
      "|   GJT| DFW|    103|     773|\n",
      "|   LAX| DTW|    220|    1979|\n",
      "|   EWR| CLT|     80|     529|\n",
      "|   DFW| SHV|     28|     190|\n",
      "|   BOS| CLE|     94|     563|\n",
      "|   ATL| CAE|     35|     192|\n",
      "|   ORD| CLE|     59|     316|\n",
      "|   MDW| DAL|    114|     793|\n",
      "|   SAN| LAX|   null|     109|\n",
      "|   ELP| DAL|     77|     562|\n",
      "|   SJU| MIA|   null|    1045|\n",
      "|   ABQ| LAX|     95|     677|\n",
      "|   ORD| LGA|     99|     733|\n",
      "|   GSO| BWI|   null|     278|\n",
      "|   DTW| MBS|     24|      98|\n",
      "|   SLC| SEA|    102|     689|\n",
      "|   LAX| IAD|    255|    2288|\n",
      "|   SMF| LAX|   null|     373|\n",
      "+------+----+-------+--------+\n",
      "only showing top 20 rows\n",
      "\n"
     ]
    }
   ],
   "source": [
    "AirlineDF.show()"
   ]
  },
  {
   "cell_type": "code",
   "execution_count": 20,
   "id": "850faa56",
   "metadata": {},
   "outputs": [
    {
     "name": "stdout",
     "output_type": "stream",
     "text": [
      "root\n",
      " |-- Origin: string (nullable = true)\n",
      " |-- Dest: string (nullable = true)\n",
      " |-- AirTime: integer (nullable = true)\n",
      " |-- Distance: integer (nullable = true)\n",
      "\n"
     ]
    }
   ],
   "source": [
    "#check data types of each columns\n",
    "AirlineDF.printSchema()"
   ]
  },
  {
   "cell_type": "markdown",
   "id": "be047ed9",
   "metadata": {},
   "source": [
    "<h1> Check is there any null values DataFrame </h1>"
   ]
  },
  {
   "cell_type": "code",
   "execution_count": 21,
   "id": "5475d475",
   "metadata": {},
   "outputs": [],
   "source": [
    "#import library for sql function col\n",
    "from pyspark.sql.functions import col"
   ]
  },
  {
   "cell_type": "code",
   "execution_count": 23,
   "id": "57f6a904",
   "metadata": {},
   "outputs": [
    {
     "name": "stdout",
     "output_type": "stream",
     "text": [
      "0\n",
      "0\n",
      "10529\n",
      "0\n"
     ]
    }
   ],
   "source": [
    "#check null values in each columns \n",
    "print(AirlineDF.where(col(\"origin\").isNull()).count())\n",
    "print(AirlineDF.where(col(\"Dest\").isNull()).count())\n",
    "print(AirlineDF.where(col(\"AirTime\").isNull()).count())\n",
    "print(AirlineDF.where(col(\"Distance\").isNull()).count())"
   ]
  },
  {
   "cell_type": "markdown",
   "id": "b98f7d56",
   "metadata": {},
   "source": [
    "<h1> we need to handle null values </h1>"
   ]
  },
  {
   "cell_type": "code",
   "execution_count": 24,
   "id": "edf9d4e0",
   "metadata": {},
   "outputs": [],
   "source": [
    "#nw drop row as correspondance to null values\n",
    "AirlineDF = AirlineDF.dropna(subset=[\"AirTime\"])"
   ]
  },
  {
   "cell_type": "code",
   "execution_count": 25,
   "id": "801601d1",
   "metadata": {},
   "outputs": [
    {
     "name": "stdout",
     "output_type": "stream",
     "text": [
      "0\n",
      "0\n",
      "0\n"
     ]
    }
   ],
   "source": [
    "#check again \n",
    "print(AirlineDF.where(col(\"origin\").isNull()).count())\n",
    "print(AirlineDF.where(col(\"Dest\").isNull()).count())\n",
    "print(AirlineDF.where(col(\"AirTime\").isNull()).count())"
   ]
  },
  {
   "cell_type": "markdown",
   "id": "78235428",
   "metadata": {},
   "source": [
    "<h1> we need convert distance miles into kilometers </h1>"
   ]
  },
  {
   "cell_type": "code",
   "execution_count": 30,
   "id": "eca13dd2",
   "metadata": {},
   "outputs": [
    {
     "name": "stdout",
     "output_type": "stream",
     "text": [
      "+------+----+-------+--------+\n",
      "|Origin|Dest|AirTime|Distance|\n",
      "+------+----+-------+--------+\n",
      "|   MSP| SLC|    153|  2567.0|\n",
      "|   MKE| MCO|    141|  2762.0|\n",
      "|   GJT| DFW|    103|  2002.0|\n",
      "|   LAX| DTW|    220|  5126.0|\n",
      "|   EWR| CLT|     80|  1370.0|\n",
      "|   DFW| SHV|     28|   492.0|\n",
      "|   BOS| CLE|     94|  1458.0|\n",
      "|   ATL| CAE|     35|   497.0|\n",
      "|   ORD| CLE|     59|   819.0|\n",
      "|   MDW| DAL|    114|  2054.0|\n",
      "|   ELP| DAL|     77|  1455.0|\n",
      "|   ABQ| LAX|     95|  1754.0|\n",
      "|   ORD| LGA|     99|  1899.0|\n",
      "|   DTW| MBS|     24|   254.0|\n",
      "|   SLC| SEA|    102|  1785.0|\n",
      "|   LAX| IAD|    255|  5926.0|\n",
      "|   MSY| ORD|    119|  2168.0|\n",
      "|   SGF| ATL|     85|  1458.0|\n",
      "|   PHX| LGB|     62|   919.0|\n",
      "|   BUR| SFO|     53|   845.0|\n",
      "+------+----+-------+--------+\n",
      "only showing top 20 rows\n",
      "\n"
     ]
    }
   ],
   "source": [
    "from pyspark.sql.functions import round\n",
    "\n",
    "#Convert 'mile' to 'km'\n",
    "AirlineDF1 = AirlineDF.withColumn('Distance', round(AirlineDF.Distance * 1.60934, 0))\n",
    "AirlineDF1.show()"
   ]
  },
  {
   "cell_type": "markdown",
   "id": "35e1fd32",
   "metadata": {},
   "source": [
    "<h1> Vectorize the features </h1>"
   ]
  },
  {
   "cell_type": "code",
   "execution_count": 27,
   "id": "51b5e9d6",
   "metadata": {},
   "outputs": [],
   "source": [
    "from pyspark.ml.feature import *"
   ]
  },
  {
   "cell_type": "code",
   "execution_count": 28,
   "id": "dfa89221",
   "metadata": {},
   "outputs": [],
   "source": [
    "from pyspark.ml.feature import VectorAssembler"
   ]
  },
  {
   "cell_type": "code",
   "execution_count": 31,
   "id": "13d8078d",
   "metadata": {},
   "outputs": [],
   "source": [
    "vectorizer = VectorAssembler()\n",
    "vectorizer.setInputCols(['AirTime', 'Distance'])\n",
    "vectorizer.setOutputCol('features')\n",
    "\n",
    "dataset = vectorizer.setHandleInvalid(\"keep\").transform(AirlineDF1)"
   ]
  },
  {
   "cell_type": "code",
   "execution_count": 32,
   "id": "e5bbc338",
   "metadata": {},
   "outputs": [
    {
     "name": "stdout",
     "output_type": "stream",
     "text": [
      "+------+----+-------+--------+--------------+\n",
      "|Origin|Dest|AirTime|Distance|      features|\n",
      "+------+----+-------+--------+--------------+\n",
      "|   MSP| SLC|    153|  2567.0|[153.0,2567.0]|\n",
      "|   MKE| MCO|    141|  2762.0|[141.0,2762.0]|\n",
      "|   GJT| DFW|    103|  2002.0|[103.0,2002.0]|\n",
      "|   LAX| DTW|    220|  5126.0|[220.0,5126.0]|\n",
      "|   EWR| CLT|     80|  1370.0| [80.0,1370.0]|\n",
      "|   DFW| SHV|     28|   492.0|  [28.0,492.0]|\n",
      "|   BOS| CLE|     94|  1458.0| [94.0,1458.0]|\n",
      "|   ATL| CAE|     35|   497.0|  [35.0,497.0]|\n",
      "|   ORD| CLE|     59|   819.0|  [59.0,819.0]|\n",
      "|   MDW| DAL|    114|  2054.0|[114.0,2054.0]|\n",
      "|   ELP| DAL|     77|  1455.0| [77.0,1455.0]|\n",
      "|   ABQ| LAX|     95|  1754.0| [95.0,1754.0]|\n",
      "|   ORD| LGA|     99|  1899.0| [99.0,1899.0]|\n",
      "|   DTW| MBS|     24|   254.0|  [24.0,254.0]|\n",
      "|   SLC| SEA|    102|  1785.0|[102.0,1785.0]|\n",
      "|   LAX| IAD|    255|  5926.0|[255.0,5926.0]|\n",
      "|   MSY| ORD|    119|  2168.0|[119.0,2168.0]|\n",
      "|   SGF| ATL|     85|  1458.0| [85.0,1458.0]|\n",
      "|   PHX| LGB|     62|   919.0|  [62.0,919.0]|\n",
      "|   BUR| SFO|     53|   845.0|  [53.0,845.0]|\n",
      "+------+----+-------+--------+--------------+\n",
      "only showing top 20 rows\n",
      "\n"
     ]
    }
   ],
   "source": [
    "dataset.show()"
   ]
  },
  {
   "cell_type": "markdown",
   "id": "69fea75c",
   "metadata": {},
   "source": [
    "<h1> Divide data unto multiple clusters </h1>"
   ]
  },
  {
   "cell_type": "code",
   "execution_count": 33,
   "id": "27c37fd3",
   "metadata": {},
   "outputs": [],
   "source": [
    "from pyspark.ml.clustering import KMeans\n",
    "from pyspark.ml.evaluation import ClusteringEvaluator"
   ]
  },
  {
   "cell_type": "code",
   "execution_count": 35,
   "id": "5dba5acc",
   "metadata": {},
   "outputs": [],
   "source": [
    "#Trains a k-means model \n",
    "kmeans = KMeans().setK(5).setSeed(1)\n",
    "model = kmeans.fit(dataset)"
   ]
  },
  {
   "cell_type": "code",
   "execution_count": 36,
   "id": "2e1dee9e",
   "metadata": {},
   "outputs": [],
   "source": [
    "#Make predictions\n",
    "predictions = model.transform(dataset)"
   ]
  },
  {
   "cell_type": "code",
   "execution_count": 37,
   "id": "bbffa19c",
   "metadata": {},
   "outputs": [],
   "source": [
    "#Evaluate clustering by computing silhouette score\n",
    "evaluator = ClusteringEvaluator()"
   ]
  },
  {
   "cell_type": "code",
   "execution_count": 39,
   "id": "c7b69978",
   "metadata": {},
   "outputs": [
    {
     "name": "stdout",
     "output_type": "stream",
     "text": [
      "Silhouette with squared euclidian distance = 0.7227996253298555\n"
     ]
    }
   ],
   "source": [
    "silhouette = evaluator.evaluate(predictions)\n",
    "print(\"Silhouette with squared euclidian distance = \"+ str(silhouette))"
   ]
  },
  {
   "cell_type": "code",
   "execution_count": 40,
   "id": "32a6f6ee",
   "metadata": {},
   "outputs": [
    {
     "name": "stdout",
     "output_type": "stream",
     "text": [
      "Cluster Centers: \n",
      "[ 164.94000298 3238.86035432]\n",
      "[ 267.31289833 5576.85250379]\n",
      "[ 51.99164804 779.71879779]\n",
      "[ 103.13336559 1877.94009031]\n",
      "[  463.53571429 10366.28571429]\n"
     ]
    }
   ],
   "source": [
    "#Shows the result\n",
    "centers = model.clusterCenters()\n",
    "print(\"Cluster Centers: \")\n",
    "for center in centers:\n",
    "    print(center)"
   ]
  },
  {
   "cell_type": "code",
   "execution_count": 41,
   "id": "1301ad72",
   "metadata": {},
   "outputs": [
    {
     "name": "stdout",
     "output_type": "stream",
     "text": [
      "+------+----+-------+--------+--------------+----------+\n",
      "|Origin|Dest|AirTime|Distance|      features|prediction|\n",
      "+------+----+-------+--------+--------------+----------+\n",
      "|   MSP| SLC|    153|  2567.0|[153.0,2567.0]|         0|\n",
      "|   MKE| MCO|    141|  2762.0|[141.0,2762.0]|         0|\n",
      "|   GJT| DFW|    103|  2002.0|[103.0,2002.0]|         3|\n",
      "|   LAX| DTW|    220|  5126.0|[220.0,5126.0]|         1|\n",
      "|   EWR| CLT|     80|  1370.0| [80.0,1370.0]|         3|\n",
      "|   DFW| SHV|     28|   492.0|  [28.0,492.0]|         2|\n",
      "|   BOS| CLE|     94|  1458.0| [94.0,1458.0]|         3|\n",
      "|   ATL| CAE|     35|   497.0|  [35.0,497.0]|         2|\n",
      "|   ORD| CLE|     59|   819.0|  [59.0,819.0]|         2|\n",
      "|   MDW| DAL|    114|  2054.0|[114.0,2054.0]|         3|\n",
      "|   ELP| DAL|     77|  1455.0| [77.0,1455.0]|         3|\n",
      "|   ABQ| LAX|     95|  1754.0| [95.0,1754.0]|         3|\n",
      "|   ORD| LGA|     99|  1899.0| [99.0,1899.0]|         3|\n",
      "|   DTW| MBS|     24|   254.0|  [24.0,254.0]|         2|\n",
      "|   SLC| SEA|    102|  1785.0|[102.0,1785.0]|         3|\n",
      "|   LAX| IAD|    255|  5926.0|[255.0,5926.0]|         1|\n",
      "|   MSY| ORD|    119|  2168.0|[119.0,2168.0]|         3|\n",
      "|   SGF| ATL|     85|  1458.0| [85.0,1458.0]|         3|\n",
      "|   PHX| LGB|     62|   919.0|  [62.0,919.0]|         2|\n",
      "|   BUR| SFO|     53|   845.0|  [53.0,845.0]|         2|\n",
      "+------+----+-------+--------+--------------+----------+\n",
      "only showing top 20 rows\n",
      "\n"
     ]
    }
   ],
   "source": [
    "predictions.show()"
   ]
  },
  {
   "cell_type": "markdown",
   "id": "e791056c",
   "metadata": {},
   "source": [
    "<h1> How to get clustered data </h1>"
   ]
  },
  {
   "cell_type": "code",
   "execution_count": 44,
   "id": "bb92f393",
   "metadata": {},
   "outputs": [
    {
     "name": "stdout",
     "output_type": "stream",
     "text": [
      "+------+----+-------+--------+\n",
      "|Origin|Dest|AirTime|Distance|\n",
      "+------+----+-------+--------+\n",
      "|   DFW| SHV|     28|   492.0|\n",
      "|   ATL| CAE|     35|   497.0|\n",
      "|   ORD| CLE|     59|   819.0|\n",
      "|   DTW| MBS|     24|   254.0|\n",
      "|   PHX| LGB|     62|   919.0|\n",
      "|   BUR| SFO|     53|   845.0|\n",
      "|   DCA| BOS|     63|  1033.0|\n",
      "|   CAE| ATL|     39|   497.0|\n",
      "|   CHO| CLT|     52|   634.0|\n",
      "|   MCI| STL|     38|   613.0|\n",
      "|   PHX| LAX|     57|   958.0|\n",
      "|   PHX| SNA|     55|   875.0|\n",
      "|   OGG| HNL|     24|   259.0|\n",
      "|   LNK| ORD|     71|  1207.0|\n",
      "|   DAY| ORD|     43|   621.0|\n",
      "|   PHX| SAN|     50|   787.0|\n",
      "|   SFO| LAX|     59|   872.0|\n",
      "|   RDU| ATL|     85|   922.0|\n",
      "|   HNL| KOA|     28|   422.0|\n",
      "|   DFW| LAW|     30|   362.0|\n",
      "+------+----+-------+--------+\n",
      "only showing top 20 rows\n",
      "\n"
     ]
    }
   ],
   "source": [
    "predictions.select(\"Origin\",\"Dest\",\"AirTime\",\"Distance\").where(predictions.prediction=='2').show()"
   ]
  },
  {
   "cell_type": "code",
   "execution_count": null,
   "id": "d1ffc064",
   "metadata": {},
   "outputs": [],
   "source": []
  }
 ],
 "metadata": {
  "kernelspec": {
   "display_name": "Python 3 (ipykernel)",
   "language": "python",
   "name": "python3"
  },
  "language_info": {
   "codemirror_mode": {
    "name": "ipython",
    "version": 3
   },
   "file_extension": ".py",
   "mimetype": "text/x-python",
   "name": "python",
   "nbconvert_exporter": "python",
   "pygments_lexer": "ipython3",
   "version": "3.9.7"
  }
 },
 "nbformat": 4,
 "nbformat_minor": 5
}
